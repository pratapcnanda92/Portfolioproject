{
  "nbformat": 4,
  "nbformat_minor": 0,
  "metadata": {
    "colab": {
      "name": "Bank Model - Artificial Neural Network",
      "provenance": [],
      "collapsed_sections": [],
      "include_colab_link": true
    },
    "kernelspec": {
      "name": "python3",
      "display_name": "Python 3"
    }
  },
  "cells": [
    {
      "cell_type": "markdown",
      "metadata": {
        "id": "view-in-github",
        "colab_type": "text"
      },
      "source": [
        "<a href=\"https://colab.research.google.com/github/pratapcnanda92/Portfolioproject/blob/main/Bank_Model_Artificial_Neural_Network.ipynb\" target=\"_parent\"><img src=\"https://colab.research.google.com/assets/colab-badge.svg\" alt=\"Open In Colab\"/></a>"
      ]
    },
    {
      "cell_type": "markdown",
      "metadata": {
        "id": "3cbb7fRy-eyr"
      },
      "source": [
        "# Bank Model - Classification"
      ]
    },
    {
      "cell_type": "markdown",
      "metadata": {
        "id": "8sNDnxE2-pwE"
      },
      "source": [
        "### Importing the libraries"
      ]
    },
    {
      "cell_type": "code",
      "metadata": {
        "colab": {
          "base_uri": "https://localhost:8080/",
          "height": 35
        },
        "id": "KlZUhPyJJVyv",
        "outputId": "c82084a9-7a64-4bc5-bd94-0a609e606be4"
      },
      "source": [
        "import numpy as np\n",
        "import pandas as pd\n",
        "import tensorflow as tf\n",
        "tf.__version__"
      ],
      "execution_count": 1,
      "outputs": [
        {
          "output_type": "execute_result",
          "data": {
            "application/vnd.google.colaboratory.intrinsic+json": {
              "type": "string"
            },
            "text/plain": [
              "'2.5.0'"
            ]
          },
          "metadata": {
            "tags": []
          },
          "execution_count": 1
        }
      ]
    },
    {
      "cell_type": "markdown",
      "metadata": {
        "id": "AG3FQEch-yuA"
      },
      "source": [
        "## Part 1 - Data Preprocessing"
      ]
    },
    {
      "cell_type": "markdown",
      "metadata": {
        "id": "-4zq8Mza_D9O"
      },
      "source": [
        "### Importing the dataset"
      ]
    },
    {
      "cell_type": "code",
      "metadata": {
        "id": "vyfaLorHJuaA"
      },
      "source": [
        "dataset = pd.read_csv('/content/bank-full.csv', sep=';')\n",
        "X = dataset.iloc[:,:-1].values\n",
        "y = dataset.iloc[:,-1].values"
      ],
      "execution_count": 2,
      "outputs": []
    },
    {
      "cell_type": "code",
      "metadata": {
        "colab": {
          "base_uri": "https://localhost:8080/"
        },
        "id": "PVJgUuY0K2QG",
        "outputId": "3b3f3910-5c27-4779-c892-aa71b34d6b84"
      },
      "source": [
        "print(X)\n",
        "print(y)"
      ],
      "execution_count": 3,
      "outputs": [
        {
          "output_type": "stream",
          "text": [
            "[[58 'management' 'married' ... -1 0 'unknown']\n",
            " [44 'technician' 'single' ... -1 0 'unknown']\n",
            " [33 'entrepreneur' 'married' ... -1 0 'unknown']\n",
            " ...\n",
            " [72 'retired' 'married' ... 184 3 'success']\n",
            " [57 'blue-collar' 'married' ... -1 0 'unknown']\n",
            " [37 'entrepreneur' 'married' ... 188 11 'other']]\n",
            "['no' 'no' 'no' ... 'yes' 'no' 'no']\n"
          ],
          "name": "stdout"
        }
      ]
    },
    {
      "cell_type": "markdown",
      "metadata": {
        "id": "VC6omXel_Up0"
      },
      "source": [
        "### Data Pre-processing"
      ]
    },
    {
      "cell_type": "code",
      "metadata": {
        "id": "4cl2-QzDqUFK"
      },
      "source": [
        "from sklearn.compose import ColumnTransformer\n",
        "from sklearn.preprocessing import OneHotEncoder, LabelEncoder\n",
        "\n",
        "ct1 = ColumnTransformer(transformers=[('encoder', OneHotEncoder(), [1])], remainder='passthrough')\n",
        "ct2 = ColumnTransformer(transformers=[('encoder', OneHotEncoder(), [13])], remainder='passthrough')\n",
        "ct3 = ColumnTransformer(transformers=[('encoder', OneHotEncoder(), [16])], remainder='passthrough')\n",
        "ct4 = ColumnTransformer(transformers=[('encoder', OneHotEncoder(), [24])], remainder='passthrough')\n",
        "ct5 = ColumnTransformer(transformers=[('encoder', OneHotEncoder(), [28])], remainder='passthrough')\n",
        "ct6 = ColumnTransformer(transformers=[('encoder', OneHotEncoder(), [44])], remainder='passthrough')\n",
        "\n",
        "X = np.array(ct1.fit_transform(X))\n",
        "X = np.array(ct2.fit_transform(X))\n",
        "X = np.array(ct3.fit_transform(X))\n",
        "X = np.array(ct4.fit_transform(X))\n",
        "X = np.array(ct5.fit_transform(X))\n",
        "X = np.array(ct6.fit_transform(X))\n",
        "\n",
        "#X[2,:]\n",
        "\n"
      ],
      "execution_count": 4,
      "outputs": []
    },
    {
      "cell_type": "code",
      "metadata": {
        "colab": {
          "base_uri": "https://localhost:8080/"
        },
        "id": "skd-Q1SxsNCH",
        "outputId": "e9600a1a-10f9-47e4-e065-191adb9a864f"
      },
      "source": [
        "X[2,:]"
      ],
      "execution_count": 5,
      "outputs": [
        {
          "output_type": "execute_result",
          "data": {
            "text/plain": [
              "array([0.0, 0.0, 0.0, 1.0, 0.0, 0.0, 0.0, 0.0, 0.0, 0.0, 0.0, 0.0, 1.0,\n",
              "       0.0, 0.0, 0.0, 0.0, 0.0, 1.0, 0.0, 1.0, 0.0, 0.0, 0.0, 1.0, 0.0,\n",
              "       0.0, 0.0, 1.0, 0.0, 0.0, 0.0, 0.0, 0.0, 0.0, 0.0, 0.0, 0.0, 33,\n",
              "       'no', 2, 'yes', 'yes', 5, 76, 1, -1, 0], dtype=object)"
            ]
          },
          "metadata": {
            "tags": []
          },
          "execution_count": 5
        }
      ]
    },
    {
      "cell_type": "code",
      "metadata": {
        "id": "2Yc-EexUr_xn"
      },
      "source": [
        "le = LabelEncoder()\n",
        "X[:,39] = le.fit_transform(X[:,39]) \n",
        "X[:,41] = le.fit_transform(X[:,41]) \n",
        "X[:,42] = le.fit_transform(X[:,42]) \n",
        "y = le.fit_transform(y)"
      ],
      "execution_count": 6,
      "outputs": []
    },
    {
      "cell_type": "markdown",
      "metadata": {
        "id": "FRor3GjAqOjk"
      },
      "source": [
        "### Splitting the dataset into the Training set and Test set"
      ]
    },
    {
      "cell_type": "code",
      "metadata": {
        "id": "2TFyPjtlLAhu",
        "colab": {
          "base_uri": "https://localhost:8080/"
        },
        "outputId": "b9fe75c5-51c6-4428-edd2-c7607b8bf76b"
      },
      "source": [
        "from sklearn.model_selection import train_test_split\n",
        "X_train, X_test, y_train, y_test = train_test_split(X, y, test_size = 0.25, random_state = 0)\n",
        "print(X_train)\n",
        "print(y_train)\n",
        "print(X_test)\n",
        "print(y_test)"
      ],
      "execution_count": 7,
      "outputs": [
        {
          "output_type": "stream",
          "text": [
            "[[0.0 0.0 0.0 ... 1 -1 0]\n",
            " [0.0 0.0 0.0 ... 1 -1 0]\n",
            " [0.0 0.0 0.0 ... 6 -1 0]\n",
            " ...\n",
            " [0.0 0.0 0.0 ... 2 -1 0]\n",
            " [1.0 0.0 0.0 ... 2 182 1]\n",
            " [0.0 0.0 0.0 ... 4 -1 0]]\n",
            "[0 0 0 ... 1 0 0]\n",
            "[[0.0 0.0 0.0 ... 15 -1 0]\n",
            " [0.0 0.0 0.0 ... 1 -1 0]\n",
            " [0.0 0.0 0.0 ... 5 -1 0]\n",
            " ...\n",
            " [0.0 0.0 0.0 ... 4 -1 0]\n",
            " [0.0 0.0 0.0 ... 2 -1 0]\n",
            " [0.0 0.0 0.0 ... 4 -1 0]]\n",
            "[0 1 0 ... 0 0 1]\n"
          ],
          "name": "stdout"
        }
      ]
    },
    {
      "cell_type": "code",
      "metadata": {
        "colab": {
          "base_uri": "https://localhost:8080/"
        },
        "id": "wgkwOzeLrwBs",
        "outputId": "e9b9385d-9803-4b16-bee9-7067499386a9"
      },
      "source": [
        "X_train[2,:]"
      ],
      "execution_count": 8,
      "outputs": [
        {
          "output_type": "execute_result",
          "data": {
            "text/plain": [
              "array([0.0, 0.0, 0.0, 1.0, 0.0, 0.0, 0.0, 0.0, 0.0, 0.0, 0.0, 0.0, 1.0,\n",
              "       0.0, 0.0, 0.0, 1.0, 0.0, 0.0, 0.0, 1.0, 0.0, 0.0, 0.0, 0.0, 1.0,\n",
              "       1.0, 0.0, 0.0, 0.0, 0.0, 0.0, 0.0, 0.0, 0.0, 0.0, 0.0, 0.0, 36, 0,\n",
              "       886, 1, 1, 14, 362, 6, -1, 0], dtype=object)"
            ]
          },
          "metadata": {
            "tags": []
          },
          "execution_count": 8
        }
      ]
    },
    {
      "cell_type": "markdown",
      "metadata": {
        "id": "fq7e4fF6A1yy"
      },
      "source": [
        "## Feature Scaling"
      ]
    },
    {
      "cell_type": "code",
      "metadata": {
        "colab": {
          "base_uri": "https://localhost:8080/"
        },
        "id": "UAWoP7MuqoJH",
        "outputId": "4c8192a2-1f2a-4081-ca26-cbdfa074f5c2"
      },
      "source": [
        "from sklearn.preprocessing import StandardScaler\n",
        "sc = StandardScaler()\n",
        "X_train = sc.fit_transform(X_train)\n",
        "X_test = sc.transform(X_test)\n",
        "print(X_train)\n",
        "print(X_test)"
      ],
      "execution_count": 9,
      "outputs": [
        {
          "output_type": "stream",
          "text": [
            "[[-0.35072007 -0.20449071 -0.18430851 ... -0.56835853 -0.41131336\n",
            "  -0.23906547]\n",
            " [-0.35072007 -0.20449071 -0.18430851 ... -0.56835853 -0.41131336\n",
            "  -0.23906547]\n",
            " [-0.35072007 -0.20449071 -0.18430851 ...  1.05020406 -0.41131336\n",
            "  -0.23906547]\n",
            " ...\n",
            " [-0.35072007 -0.20449071 -0.18430851 ... -0.24464601 -0.41131336\n",
            "  -0.23906547]\n",
            " [ 2.85127677 -0.20449071 -0.18430851 ... -0.24464601  1.41471736\n",
            "   0.1692061 ]\n",
            " [-0.35072007 -0.20449071 -0.18430851 ...  0.40277902 -0.41131336\n",
            "  -0.23906547]]\n",
            "[[-0.35072007 -0.20449071 -0.18430851 ...  3.96361673 -0.41131336\n",
            "  -0.23906547]\n",
            " [-0.35072007 -0.20449071 -0.18430851 ... -0.56835853 -0.41131336\n",
            "  -0.23906547]\n",
            " [-0.35072007 -0.20449071 -0.18430851 ...  0.72649154 -0.41131336\n",
            "  -0.23906547]\n",
            " ...\n",
            " [-0.35072007 -0.20449071 -0.18430851 ...  0.40277902 -0.41131336\n",
            "  -0.23906547]\n",
            " [-0.35072007 -0.20449071 -0.18430851 ... -0.24464601 -0.41131336\n",
            "  -0.23906547]\n",
            " [-0.35072007 -0.20449071 -0.18430851 ...  0.40277902 -0.41131336\n",
            "  -0.23906547]]\n"
          ],
          "name": "stdout"
        }
      ]
    },
    {
      "cell_type": "markdown",
      "metadata": {
        "id": "-XClKzelqur8"
      },
      "source": [
        "## ANN Model"
      ]
    },
    {
      "cell_type": "markdown",
      "metadata": {
        "id": "Z_0NQdut02bJ"
      },
      "source": [
        "### Initializing the ANN"
      ]
    },
    {
      "cell_type": "code",
      "metadata": {
        "id": "4-7JN2Aj0vid"
      },
      "source": [
        "ann = tf.keras.models.Sequential()"
      ],
      "execution_count": 10,
      "outputs": []
    },
    {
      "cell_type": "markdown",
      "metadata": {
        "id": "FlqU7pmX0-kn"
      },
      "source": [
        "### Adding the input layer and the first hidden layer"
      ]
    },
    {
      "cell_type": "code",
      "metadata": {
        "id": "HLBjakKg1Q26"
      },
      "source": [
        "ann.add(tf.keras.layers.Dense(units=12, activation='relu'))"
      ],
      "execution_count": 11,
      "outputs": []
    },
    {
      "cell_type": "markdown",
      "metadata": {
        "id": "6uObxL720-sh"
      },
      "source": [
        "### Adding the second hidden layer"
      ]
    },
    {
      "cell_type": "code",
      "metadata": {
        "id": "H3a1vmCD1lL5"
      },
      "source": [
        "ann.add(tf.keras.layers.Dense(units=12, activation='relu'))"
      ],
      "execution_count": 12,
      "outputs": []
    },
    {
      "cell_type": "markdown",
      "metadata": {
        "id": "0tBKyll40-ym"
      },
      "source": [
        "### Adding the output layer"
      ]
    },
    {
      "cell_type": "code",
      "metadata": {
        "id": "wt5Aloq61oSc"
      },
      "source": [
        "ann.add(tf.keras.layers.Dense(units=1, activation='sigmoid'))"
      ],
      "execution_count": 13,
      "outputs": []
    },
    {
      "cell_type": "markdown",
      "metadata": {
        "id": "-2bYTU9r1A51"
      },
      "source": [
        "### Compiling and Training the model"
      ]
    },
    {
      "cell_type": "code",
      "metadata": {
        "colab": {
          "base_uri": "https://localhost:8080/"
        },
        "id": "mylTZ1Sy1rg-",
        "outputId": "688de18c-84c6-481f-f728-50d1121e98d1"
      },
      "source": [
        "ann.compile(optimizer = 'adam', loss = 'binary_crossentropy', metrics = ['accuracy'])\n",
        "ann.fit(X_train, y_train, batch_size = 32, epochs = 100)"
      ],
      "execution_count": 14,
      "outputs": [
        {
          "output_type": "stream",
          "text": [
            "Epoch 1/100\n",
            "1060/1060 [==============================] - 3s 2ms/step - loss: 0.2734 - accuracy: 0.8898\n",
            "Epoch 2/100\n",
            "1060/1060 [==============================] - 2s 1ms/step - loss: 0.2163 - accuracy: 0.9037\n",
            "Epoch 3/100\n",
            "1060/1060 [==============================] - 2s 1ms/step - loss: 0.2098 - accuracy: 0.9059\n",
            "Epoch 4/100\n",
            "1060/1060 [==============================] - 2s 1ms/step - loss: 0.2062 - accuracy: 0.9065\n",
            "Epoch 5/100\n",
            "1060/1060 [==============================] - 2s 1ms/step - loss: 0.2038 - accuracy: 0.9076\n",
            "Epoch 6/100\n",
            "1060/1060 [==============================] - 2s 1ms/step - loss: 0.2019 - accuracy: 0.9086\n",
            "Epoch 7/100\n",
            "1060/1060 [==============================] - 2s 1ms/step - loss: 0.2004 - accuracy: 0.9090\n",
            "Epoch 8/100\n",
            "1060/1060 [==============================] - 2s 1ms/step - loss: 0.1991 - accuracy: 0.9096\n",
            "Epoch 9/100\n",
            "1060/1060 [==============================] - 2s 1ms/step - loss: 0.1979 - accuracy: 0.9101\n",
            "Epoch 10/100\n",
            "1060/1060 [==============================] - 2s 1ms/step - loss: 0.1968 - accuracy: 0.9111\n",
            "Epoch 11/100\n",
            "1060/1060 [==============================] - 2s 1ms/step - loss: 0.1959 - accuracy: 0.9112\n",
            "Epoch 12/100\n",
            "1060/1060 [==============================] - 2s 1ms/step - loss: 0.1952 - accuracy: 0.9116\n",
            "Epoch 13/100\n",
            "1060/1060 [==============================] - 2s 1ms/step - loss: 0.1943 - accuracy: 0.9108\n",
            "Epoch 14/100\n",
            "1060/1060 [==============================] - 1s 1ms/step - loss: 0.1936 - accuracy: 0.9120\n",
            "Epoch 15/100\n",
            "1060/1060 [==============================] - 2s 1ms/step - loss: 0.1931 - accuracy: 0.9124\n",
            "Epoch 16/100\n",
            "1060/1060 [==============================] - 2s 1ms/step - loss: 0.1925 - accuracy: 0.9131\n",
            "Epoch 17/100\n",
            "1060/1060 [==============================] - 2s 1ms/step - loss: 0.1922 - accuracy: 0.9136\n",
            "Epoch 18/100\n",
            "1060/1060 [==============================] - 2s 1ms/step - loss: 0.1913 - accuracy: 0.9141\n",
            "Epoch 19/100\n",
            "1060/1060 [==============================] - 2s 1ms/step - loss: 0.1909 - accuracy: 0.9142\n",
            "Epoch 20/100\n",
            "1060/1060 [==============================] - 2s 1ms/step - loss: 0.1904 - accuracy: 0.9140\n",
            "Epoch 21/100\n",
            "1060/1060 [==============================] - 2s 1ms/step - loss: 0.1900 - accuracy: 0.9141\n",
            "Epoch 22/100\n",
            "1060/1060 [==============================] - 2s 1ms/step - loss: 0.1897 - accuracy: 0.9141\n",
            "Epoch 23/100\n",
            "1060/1060 [==============================] - 2s 1ms/step - loss: 0.1893 - accuracy: 0.9145\n",
            "Epoch 24/100\n",
            "1060/1060 [==============================] - 2s 1ms/step - loss: 0.1888 - accuracy: 0.9147\n",
            "Epoch 25/100\n",
            "1060/1060 [==============================] - 2s 1ms/step - loss: 0.1889 - accuracy: 0.9147\n",
            "Epoch 26/100\n",
            "1060/1060 [==============================] - 2s 1ms/step - loss: 0.1885 - accuracy: 0.9141\n",
            "Epoch 27/100\n",
            "1060/1060 [==============================] - 2s 1ms/step - loss: 0.1881 - accuracy: 0.9154\n",
            "Epoch 28/100\n",
            "1060/1060 [==============================] - 2s 1ms/step - loss: 0.1877 - accuracy: 0.9149\n",
            "Epoch 29/100\n",
            "1060/1060 [==============================] - 2s 1ms/step - loss: 0.1876 - accuracy: 0.9155\n",
            "Epoch 30/100\n",
            "1060/1060 [==============================] - 2s 1ms/step - loss: 0.1875 - accuracy: 0.9151\n",
            "Epoch 31/100\n",
            "1060/1060 [==============================] - 2s 1ms/step - loss: 0.1872 - accuracy: 0.9161\n",
            "Epoch 32/100\n",
            "1060/1060 [==============================] - 2s 1ms/step - loss: 0.1871 - accuracy: 0.9147\n",
            "Epoch 33/100\n",
            "1060/1060 [==============================] - 2s 1ms/step - loss: 0.1867 - accuracy: 0.9161\n",
            "Epoch 34/100\n",
            "1060/1060 [==============================] - 2s 2ms/step - loss: 0.1867 - accuracy: 0.9162\n",
            "Epoch 35/100\n",
            "1060/1060 [==============================] - 2s 1ms/step - loss: 0.1865 - accuracy: 0.9154\n",
            "Epoch 36/100\n",
            "1060/1060 [==============================] - 2s 2ms/step - loss: 0.1863 - accuracy: 0.9148\n",
            "Epoch 37/100\n",
            "1060/1060 [==============================] - 2s 1ms/step - loss: 0.1860 - accuracy: 0.9158\n",
            "Epoch 38/100\n",
            "1060/1060 [==============================] - 2s 1ms/step - loss: 0.1859 - accuracy: 0.9154\n",
            "Epoch 39/100\n",
            "1060/1060 [==============================] - 2s 2ms/step - loss: 0.1859 - accuracy: 0.9159\n",
            "Epoch 40/100\n",
            "1060/1060 [==============================] - 2s 2ms/step - loss: 0.1856 - accuracy: 0.9157\n",
            "Epoch 41/100\n",
            "1060/1060 [==============================] - 2s 1ms/step - loss: 0.1855 - accuracy: 0.9164\n",
            "Epoch 42/100\n",
            "1060/1060 [==============================] - 2s 1ms/step - loss: 0.1852 - accuracy: 0.9162\n",
            "Epoch 43/100\n",
            "1060/1060 [==============================] - 2s 2ms/step - loss: 0.1851 - accuracy: 0.9166\n",
            "Epoch 44/100\n",
            "1060/1060 [==============================] - 2s 1ms/step - loss: 0.1850 - accuracy: 0.9151\n",
            "Epoch 45/100\n",
            "1060/1060 [==============================] - 2s 2ms/step - loss: 0.1849 - accuracy: 0.9162\n",
            "Epoch 46/100\n",
            "1060/1060 [==============================] - 2s 2ms/step - loss: 0.1848 - accuracy: 0.9169\n",
            "Epoch 47/100\n",
            "1060/1060 [==============================] - 2s 1ms/step - loss: 0.1845 - accuracy: 0.9164\n",
            "Epoch 48/100\n",
            "1060/1060 [==============================] - 2s 2ms/step - loss: 0.1845 - accuracy: 0.9158\n",
            "Epoch 49/100\n",
            "1060/1060 [==============================] - 2s 2ms/step - loss: 0.1840 - accuracy: 0.9164\n",
            "Epoch 50/100\n",
            "1060/1060 [==============================] - 2s 2ms/step - loss: 0.1842 - accuracy: 0.9159\n",
            "Epoch 51/100\n",
            "1060/1060 [==============================] - 2s 2ms/step - loss: 0.1839 - accuracy: 0.9168\n",
            "Epoch 52/100\n",
            "1060/1060 [==============================] - 2s 1ms/step - loss: 0.1841 - accuracy: 0.9164\n",
            "Epoch 53/100\n",
            "1060/1060 [==============================] - 2s 1ms/step - loss: 0.1837 - accuracy: 0.9170\n",
            "Epoch 54/100\n",
            "1060/1060 [==============================] - 2s 1ms/step - loss: 0.1836 - accuracy: 0.9172\n",
            "Epoch 55/100\n",
            "1060/1060 [==============================] - 2s 1ms/step - loss: 0.1832 - accuracy: 0.9173\n",
            "Epoch 56/100\n",
            "1060/1060 [==============================] - 2s 2ms/step - loss: 0.1831 - accuracy: 0.9163\n",
            "Epoch 57/100\n",
            "1060/1060 [==============================] - 2s 2ms/step - loss: 0.1830 - accuracy: 0.9165\n",
            "Epoch 58/100\n",
            "1060/1060 [==============================] - 2s 2ms/step - loss: 0.1830 - accuracy: 0.9175\n",
            "Epoch 59/100\n",
            "1060/1060 [==============================] - 2s 2ms/step - loss: 0.1827 - accuracy: 0.9182\n",
            "Epoch 60/100\n",
            "1060/1060 [==============================] - 2s 2ms/step - loss: 0.1824 - accuracy: 0.9175\n",
            "Epoch 61/100\n",
            "1060/1060 [==============================] - 2s 2ms/step - loss: 0.1824 - accuracy: 0.9168\n",
            "Epoch 62/100\n",
            "1060/1060 [==============================] - 2s 2ms/step - loss: 0.1824 - accuracy: 0.9170\n",
            "Epoch 63/100\n",
            "1060/1060 [==============================] - 2s 2ms/step - loss: 0.1821 - accuracy: 0.9178\n",
            "Epoch 64/100\n",
            "1060/1060 [==============================] - 2s 2ms/step - loss: 0.1823 - accuracy: 0.9166\n",
            "Epoch 65/100\n",
            "1060/1060 [==============================] - 2s 2ms/step - loss: 0.1822 - accuracy: 0.9165\n",
            "Epoch 66/100\n",
            "1060/1060 [==============================] - 2s 2ms/step - loss: 0.1819 - accuracy: 0.9171\n",
            "Epoch 67/100\n",
            "1060/1060 [==============================] - 2s 1ms/step - loss: 0.1820 - accuracy: 0.9173\n",
            "Epoch 68/100\n",
            "1060/1060 [==============================] - 2s 2ms/step - loss: 0.1819 - accuracy: 0.9175\n",
            "Epoch 69/100\n",
            "1060/1060 [==============================] - 2s 1ms/step - loss: 0.1816 - accuracy: 0.9178\n",
            "Epoch 70/100\n",
            "1060/1060 [==============================] - 2s 2ms/step - loss: 0.1820 - accuracy: 0.9177\n",
            "Epoch 71/100\n",
            "1060/1060 [==============================] - 2s 2ms/step - loss: 0.1816 - accuracy: 0.9179\n",
            "Epoch 72/100\n",
            "1060/1060 [==============================] - 2s 2ms/step - loss: 0.1815 - accuracy: 0.9175\n",
            "Epoch 73/100\n",
            "1060/1060 [==============================] - 2s 2ms/step - loss: 0.1815 - accuracy: 0.9172\n",
            "Epoch 74/100\n",
            "1060/1060 [==============================] - 2s 2ms/step - loss: 0.1812 - accuracy: 0.9174\n",
            "Epoch 75/100\n",
            "1060/1060 [==============================] - 2s 2ms/step - loss: 0.1814 - accuracy: 0.9177\n",
            "Epoch 76/100\n",
            "1060/1060 [==============================] - 2s 2ms/step - loss: 0.1815 - accuracy: 0.9181\n",
            "Epoch 77/100\n",
            "1060/1060 [==============================] - 2s 1ms/step - loss: 0.1812 - accuracy: 0.9171\n",
            "Epoch 78/100\n",
            "1060/1060 [==============================] - 2s 2ms/step - loss: 0.1811 - accuracy: 0.9181\n",
            "Epoch 79/100\n",
            "1060/1060 [==============================] - 2s 2ms/step - loss: 0.1810 - accuracy: 0.9178\n",
            "Epoch 80/100\n",
            "1060/1060 [==============================] - 2s 2ms/step - loss: 0.1809 - accuracy: 0.9174\n",
            "Epoch 81/100\n",
            "1060/1060 [==============================] - 2s 1ms/step - loss: 0.1809 - accuracy: 0.9182\n",
            "Epoch 82/100\n",
            "1060/1060 [==============================] - 2s 2ms/step - loss: 0.1806 - accuracy: 0.9179\n",
            "Epoch 83/100\n",
            "1060/1060 [==============================] - 2s 2ms/step - loss: 0.1807 - accuracy: 0.9174\n",
            "Epoch 84/100\n",
            "1060/1060 [==============================] - 2s 2ms/step - loss: 0.1806 - accuracy: 0.9180\n",
            "Epoch 85/100\n",
            "1060/1060 [==============================] - 2s 2ms/step - loss: 0.1805 - accuracy: 0.9186\n",
            "Epoch 86/100\n",
            "1060/1060 [==============================] - 2s 1ms/step - loss: 0.1807 - accuracy: 0.9177\n",
            "Epoch 87/100\n",
            "1060/1060 [==============================] - 2s 2ms/step - loss: 0.1805 - accuracy: 0.9176\n",
            "Epoch 88/100\n",
            "1060/1060 [==============================] - 2s 2ms/step - loss: 0.1801 - accuracy: 0.9181\n",
            "Epoch 89/100\n",
            "1060/1060 [==============================] - 2s 1ms/step - loss: 0.1806 - accuracy: 0.9170\n",
            "Epoch 90/100\n",
            "1060/1060 [==============================] - 2s 2ms/step - loss: 0.1804 - accuracy: 0.9175\n",
            "Epoch 91/100\n",
            "1060/1060 [==============================] - 2s 2ms/step - loss: 0.1803 - accuracy: 0.9175\n",
            "Epoch 92/100\n",
            "1060/1060 [==============================] - 2s 2ms/step - loss: 0.1804 - accuracy: 0.9181\n",
            "Epoch 93/100\n",
            "1060/1060 [==============================] - 2s 2ms/step - loss: 0.1801 - accuracy: 0.9182\n",
            "Epoch 94/100\n",
            "1060/1060 [==============================] - 2s 2ms/step - loss: 0.1803 - accuracy: 0.9172\n",
            "Epoch 95/100\n",
            "1060/1060 [==============================] - 2s 2ms/step - loss: 0.1799 - accuracy: 0.9190\n",
            "Epoch 96/100\n",
            "1060/1060 [==============================] - 2s 2ms/step - loss: 0.1801 - accuracy: 0.9181\n",
            "Epoch 97/100\n",
            "1060/1060 [==============================] - 2s 2ms/step - loss: 0.1799 - accuracy: 0.9182\n",
            "Epoch 98/100\n",
            "1060/1060 [==============================] - 2s 2ms/step - loss: 0.1800 - accuracy: 0.9179\n",
            "Epoch 99/100\n",
            "1060/1060 [==============================] - 2s 2ms/step - loss: 0.1802 - accuracy: 0.9181\n",
            "Epoch 100/100\n",
            "1060/1060 [==============================] - 2s 2ms/step - loss: 0.1801 - accuracy: 0.9180\n"
          ],
          "name": "stdout"
        },
        {
          "output_type": "execute_result",
          "data": {
            "text/plain": [
              "<tensorflow.python.keras.callbacks.History at 0x7f91bf6fdd10>"
            ]
          },
          "metadata": {
            "tags": []
          },
          "execution_count": 14
        }
      ]
    },
    {
      "cell_type": "markdown",
      "metadata": {
        "id": "aRoIIcVH6GmY"
      },
      "source": [
        "## Predicting the Test set results"
      ]
    },
    {
      "cell_type": "code",
      "metadata": {
        "colab": {
          "base_uri": "https://localhost:8080/"
        },
        "id": "SrqvLuCA1HQd",
        "outputId": "68a9ef50-31c8-41d4-ce9d-039b9a3cfafc"
      },
      "source": [
        "y_pred = ann.predict(X_test)\n",
        "y_pred = (y_pred > 0.5)\n",
        "np.set_printoptions(precision=2)\n",
        "print(np.concatenate((y_pred.reshape(len(y_pred),1), y_test.reshape(len(y_test),1)),1))"
      ],
      "execution_count": 15,
      "outputs": [
        {
          "output_type": "stream",
          "text": [
            "[[0 0]\n",
            " [1 1]\n",
            " [0 0]\n",
            " ...\n",
            " [0 0]\n",
            " [0 0]\n",
            " [1 1]]\n"
          ],
          "name": "stdout"
        }
      ]
    },
    {
      "cell_type": "markdown",
      "metadata": {
        "id": "3vLVJdE36Psf"
      },
      "source": [
        "## Making the Confusion Matrix"
      ]
    },
    {
      "cell_type": "code",
      "metadata": {
        "colab": {
          "base_uri": "https://localhost:8080/"
        },
        "id": "f71i_wvw6T-t",
        "outputId": "6930ee2d-1259-4ca1-be0b-2ebecdce4b2d"
      },
      "source": [
        "from sklearn.metrics import confusion_matrix, accuracy_score\n",
        "cm = confusion_matrix(y_test, y_pred)\n",
        "print(cm)\n",
        "accuracy_score(y_test, y_pred)"
      ],
      "execution_count": 16,
      "outputs": [
        {
          "output_type": "stream",
          "text": [
            "[[9449  529]\n",
            " [ 591  734]]\n"
          ],
          "name": "stdout"
        },
        {
          "output_type": "execute_result",
          "data": {
            "text/plain": [
              "0.9009112624966823"
            ]
          },
          "metadata": {
            "tags": []
          },
          "execution_count": 16
        }
      ]
    }
  ]
}