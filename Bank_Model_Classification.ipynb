{
  "nbformat": 4,
  "nbformat_minor": 0,
  "metadata": {
    "colab": {
      "name": "Bank Model - Classification",
      "provenance": [],
      "collapsed_sections": [],
      "include_colab_link": true
    },
    "kernelspec": {
      "name": "python3",
      "display_name": "Python 3"
    }
  },
  "cells": [
    {
      "cell_type": "markdown",
      "metadata": {
        "id": "view-in-github",
        "colab_type": "text"
      },
      "source": [
        "<a href=\"https://colab.research.google.com/github/pratapcnanda92/Portfolioproject/blob/main/Bank_Model_Classification.ipynb\" target=\"_parent\"><img src=\"https://colab.research.google.com/assets/colab-badge.svg\" alt=\"Open In Colab\"/></a>"
      ]
    },
    {
      "cell_type": "markdown",
      "metadata": {
        "id": "3cbb7fRy-eyr"
      },
      "source": [
        "# Bank Model - Classification"
      ]
    },
    {
      "cell_type": "markdown",
      "metadata": {
        "id": "8sNDnxE2-pwE"
      },
      "source": [
        "### Importing the libraries"
      ]
    },
    {
      "cell_type": "code",
      "metadata": {
        "colab": {
          "base_uri": "https://localhost:8080/",
          "height": 35
        },
        "id": "KlZUhPyJJVyv",
        "outputId": "3f8cd26c-9d65-4810-de03-b5f8f29641dc"
      },
      "source": [
        "import numpy as np\n",
        "import pandas as pd\n",
        "import tensorflow as tf\n",
        "tf.__version__"
      ],
      "execution_count": 1,
      "outputs": [
        {
          "output_type": "execute_result",
          "data": {
            "application/vnd.google.colaboratory.intrinsic+json": {
              "type": "string"
            },
            "text/plain": [
              "'2.5.0'"
            ]
          },
          "metadata": {
            "tags": []
          },
          "execution_count": 1
        }
      ]
    },
    {
      "cell_type": "markdown",
      "metadata": {
        "id": "AG3FQEch-yuA"
      },
      "source": [
        "## Part 1 - Data Preprocessing"
      ]
    },
    {
      "cell_type": "markdown",
      "metadata": {
        "id": "-4zq8Mza_D9O"
      },
      "source": [
        "### Importing the dataset"
      ]
    },
    {
      "cell_type": "code",
      "metadata": {
        "id": "vyfaLorHJuaA"
      },
      "source": [
        "dataset = pd.read_csv('/content/bank-full.csv', sep=';')\n",
        "X = dataset.iloc[:,:-1].values\n",
        "y = dataset.iloc[:,-1].values"
      ],
      "execution_count": 2,
      "outputs": []
    },
    {
      "cell_type": "code",
      "metadata": {
        "colab": {
          "base_uri": "https://localhost:8080/"
        },
        "id": "PVJgUuY0K2QG",
        "outputId": "8791a767-3738-45e0-d8fc-a1769d63a169"
      },
      "source": [
        "print(X)\n",
        "print(y)"
      ],
      "execution_count": 3,
      "outputs": [
        {
          "output_type": "stream",
          "text": [
            "[[58 'management' 'married' ... -1 0 'unknown']\n",
            " [44 'technician' 'single' ... -1 0 'unknown']\n",
            " [33 'entrepreneur' 'married' ... -1 0 'unknown']\n",
            " ...\n",
            " [72 'retired' 'married' ... 184 3 'success']\n",
            " [57 'blue-collar' 'married' ... -1 0 'unknown']\n",
            " [37 'entrepreneur' 'married' ... 188 11 'other']]\n",
            "['no' 'no' 'no' ... 'yes' 'no' 'no']\n"
          ],
          "name": "stdout"
        }
      ]
    },
    {
      "cell_type": "markdown",
      "metadata": {
        "id": "VC6omXel_Up0"
      },
      "source": [
        "### Data Pre-processing"
      ]
    },
    {
      "cell_type": "code",
      "metadata": {
        "id": "4cl2-QzDqUFK"
      },
      "source": [
        "from sklearn.compose import ColumnTransformer\n",
        "from sklearn.preprocessing import OneHotEncoder, LabelEncoder\n",
        "\n",
        "ct1 = ColumnTransformer(transformers=[('encoder', OneHotEncoder(), [1])], remainder='passthrough')\n",
        "ct2 = ColumnTransformer(transformers=[('encoder', OneHotEncoder(), [13])], remainder='passthrough')\n",
        "ct3 = ColumnTransformer(transformers=[('encoder', OneHotEncoder(), [16])], remainder='passthrough')\n",
        "ct4 = ColumnTransformer(transformers=[('encoder', OneHotEncoder(), [24])], remainder='passthrough')\n",
        "ct5 = ColumnTransformer(transformers=[('encoder', OneHotEncoder(), [28])], remainder='passthrough')\n",
        "ct6 = ColumnTransformer(transformers=[('encoder', OneHotEncoder(), [44])], remainder='passthrough')\n",
        "\n",
        "X = np.array(ct1.fit_transform(X))\n",
        "X = np.array(ct2.fit_transform(X))\n",
        "X = np.array(ct3.fit_transform(X))\n",
        "X = np.array(ct4.fit_transform(X))\n",
        "X = np.array(ct5.fit_transform(X))\n",
        "X = np.array(ct6.fit_transform(X))\n",
        "\n",
        "#X[2,:]\n",
        "\n"
      ],
      "execution_count": 4,
      "outputs": []
    },
    {
      "cell_type": "code",
      "metadata": {
        "colab": {
          "base_uri": "https://localhost:8080/"
        },
        "id": "skd-Q1SxsNCH",
        "outputId": "541eb774-765a-4522-b215-d5ab712027bd"
      },
      "source": [
        "X[2,:]"
      ],
      "execution_count": 5,
      "outputs": [
        {
          "output_type": "execute_result",
          "data": {
            "text/plain": [
              "array([0.0, 0.0, 0.0, 1.0, 0.0, 0.0, 0.0, 0.0, 0.0, 0.0, 0.0, 0.0, 1.0,\n",
              "       0.0, 0.0, 0.0, 0.0, 0.0, 1.0, 0.0, 1.0, 0.0, 0.0, 0.0, 1.0, 0.0,\n",
              "       0.0, 0.0, 1.0, 0.0, 0.0, 0.0, 0.0, 0.0, 0.0, 0.0, 0.0, 0.0, 33,\n",
              "       'no', 2, 'yes', 'yes', 5, 76, 1, -1, 0], dtype=object)"
            ]
          },
          "metadata": {
            "tags": []
          },
          "execution_count": 5
        }
      ]
    },
    {
      "cell_type": "code",
      "metadata": {
        "id": "2Yc-EexUr_xn"
      },
      "source": [
        "le = LabelEncoder()\n",
        "X[:,39] = le.fit_transform(X[:,39]) \n",
        "X[:,41] = le.fit_transform(X[:,41]) \n",
        "X[:,42] = le.fit_transform(X[:,42]) \n",
        "y = le.fit_transform(y)"
      ],
      "execution_count": 6,
      "outputs": []
    },
    {
      "cell_type": "markdown",
      "metadata": {
        "id": "FRor3GjAqOjk"
      },
      "source": [
        "### Splitting the dataset into the Training set and Test set"
      ]
    },
    {
      "cell_type": "code",
      "metadata": {
        "id": "2TFyPjtlLAhu",
        "colab": {
          "base_uri": "https://localhost:8080/"
        },
        "outputId": "abf15701-f81e-4c29-dceb-b67d5a30eed3"
      },
      "source": [
        "from sklearn.model_selection import train_test_split\n",
        "X_train, X_test, y_train, y_test = train_test_split(X, y, test_size = 0.25, random_state = 0)\n",
        "print(X_train)\n",
        "print(y_train)\n",
        "print(X_test)\n",
        "print(y_test)"
      ],
      "execution_count": 7,
      "outputs": [
        {
          "output_type": "stream",
          "text": [
            "[[0.0 0.0 0.0 ... 1 -1 0]\n",
            " [0.0 0.0 0.0 ... 1 -1 0]\n",
            " [0.0 0.0 0.0 ... 6 -1 0]\n",
            " ...\n",
            " [0.0 0.0 0.0 ... 2 -1 0]\n",
            " [1.0 0.0 0.0 ... 2 182 1]\n",
            " [0.0 0.0 0.0 ... 4 -1 0]]\n",
            "[0 0 0 ... 1 0 0]\n",
            "[[0.0 0.0 0.0 ... 15 -1 0]\n",
            " [0.0 0.0 0.0 ... 1 -1 0]\n",
            " [0.0 0.0 0.0 ... 5 -1 0]\n",
            " ...\n",
            " [0.0 0.0 0.0 ... 4 -1 0]\n",
            " [0.0 0.0 0.0 ... 2 -1 0]\n",
            " [0.0 0.0 0.0 ... 4 -1 0]]\n",
            "[0 1 0 ... 0 0 1]\n"
          ],
          "name": "stdout"
        }
      ]
    },
    {
      "cell_type": "code",
      "metadata": {
        "colab": {
          "base_uri": "https://localhost:8080/"
        },
        "id": "wgkwOzeLrwBs",
        "outputId": "26f4fa06-d133-4f10-8e99-d88819838025"
      },
      "source": [
        "X_train[2,:]"
      ],
      "execution_count": 8,
      "outputs": [
        {
          "output_type": "execute_result",
          "data": {
            "text/plain": [
              "array([0.0, 0.0, 0.0, 1.0, 0.0, 0.0, 0.0, 0.0, 0.0, 0.0, 0.0, 0.0, 1.0,\n",
              "       0.0, 0.0, 0.0, 1.0, 0.0, 0.0, 0.0, 1.0, 0.0, 0.0, 0.0, 0.0, 1.0,\n",
              "       1.0, 0.0, 0.0, 0.0, 0.0, 0.0, 0.0, 0.0, 0.0, 0.0, 0.0, 0.0, 36, 0,\n",
              "       886, 1, 1, 14, 362, 6, -1, 0], dtype=object)"
            ]
          },
          "metadata": {
            "tags": []
          },
          "execution_count": 8
        }
      ]
    },
    {
      "cell_type": "markdown",
      "metadata": {
        "id": "fq7e4fF6A1yy"
      },
      "source": [
        "## Feature Scaling"
      ]
    },
    {
      "cell_type": "code",
      "metadata": {
        "colab": {
          "base_uri": "https://localhost:8080/"
        },
        "id": "UAWoP7MuqoJH",
        "outputId": "b071f18b-d00c-4143-eaf0-651380a2d4fb"
      },
      "source": [
        "from sklearn.preprocessing import StandardScaler\n",
        "sc = StandardScaler()\n",
        "X_train = sc.fit_transform(X_train)\n",
        "X_test = sc.transform(X_test)\n",
        "print(X_train)\n",
        "print(X_test)"
      ],
      "execution_count": 9,
      "outputs": [
        {
          "output_type": "stream",
          "text": [
            "[[-0.35072007 -0.20449071 -0.18430851 ... -0.56835853 -0.41131336\n",
            "  -0.23906547]\n",
            " [-0.35072007 -0.20449071 -0.18430851 ... -0.56835853 -0.41131336\n",
            "  -0.23906547]\n",
            " [-0.35072007 -0.20449071 -0.18430851 ...  1.05020406 -0.41131336\n",
            "  -0.23906547]\n",
            " ...\n",
            " [-0.35072007 -0.20449071 -0.18430851 ... -0.24464601 -0.41131336\n",
            "  -0.23906547]\n",
            " [ 2.85127677 -0.20449071 -0.18430851 ... -0.24464601  1.41471736\n",
            "   0.1692061 ]\n",
            " [-0.35072007 -0.20449071 -0.18430851 ...  0.40277902 -0.41131336\n",
            "  -0.23906547]]\n",
            "[[-0.35072007 -0.20449071 -0.18430851 ...  3.96361673 -0.41131336\n",
            "  -0.23906547]\n",
            " [-0.35072007 -0.20449071 -0.18430851 ... -0.56835853 -0.41131336\n",
            "  -0.23906547]\n",
            " [-0.35072007 -0.20449071 -0.18430851 ...  0.72649154 -0.41131336\n",
            "  -0.23906547]\n",
            " ...\n",
            " [-0.35072007 -0.20449071 -0.18430851 ...  0.40277902 -0.41131336\n",
            "  -0.23906547]\n",
            " [-0.35072007 -0.20449071 -0.18430851 ... -0.24464601 -0.41131336\n",
            "  -0.23906547]\n",
            " [-0.35072007 -0.20449071 -0.18430851 ...  0.40277902 -0.41131336\n",
            "  -0.23906547]]\n"
          ],
          "name": "stdout"
        }
      ]
    },
    {
      "cell_type": "markdown",
      "metadata": {
        "id": "-XClKzelqur8"
      },
      "source": [
        "## Classification Models"
      ]
    },
    {
      "cell_type": "markdown",
      "metadata": {
        "id": "YjVuiybYOo7r"
      },
      "source": [
        "#### KNN"
      ]
    },
    {
      "cell_type": "code",
      "metadata": {
        "colab": {
          "base_uri": "https://localhost:8080/"
        },
        "id": "Nr-k2lUiq8kz",
        "outputId": "e956706c-dd8b-4a27-aea6-fc424e904cd0"
      },
      "source": [
        "from sklearn.neighbors import KNeighborsClassifier\n",
        "classifier_KNN = KNeighborsClassifier(n_neighbors = 10, metric = 'minkowski', p = 2)\n",
        "classifier_KNN.fit(X_train, y_train)"
      ],
      "execution_count": 10,
      "outputs": [
        {
          "output_type": "execute_result",
          "data": {
            "text/plain": [
              "KNeighborsClassifier(algorithm='auto', leaf_size=30, metric='minkowski',\n",
              "                     metric_params=None, n_jobs=None, n_neighbors=10, p=2,\n",
              "                     weights='uniform')"
            ]
          },
          "metadata": {
            "tags": []
          },
          "execution_count": 10
        }
      ]
    },
    {
      "cell_type": "markdown",
      "metadata": {
        "id": "0H0zKKNEBLD5"
      },
      "source": [
        "### Logistic regression"
      ]
    },
    {
      "cell_type": "code",
      "metadata": {
        "colab": {
          "base_uri": "https://localhost:8080/"
        },
        "id": "0rPRe5IZrLM1",
        "outputId": "a66bf67a-aa2d-4642-e992-6dae1400ba27"
      },
      "source": [
        "from sklearn.linear_model import LogisticRegression\n",
        "classifier_LG = LogisticRegression(random_state = 0)\n",
        "classifier_LG.fit(X_train, y_train)"
      ],
      "execution_count": 11,
      "outputs": [
        {
          "output_type": "execute_result",
          "data": {
            "text/plain": [
              "LogisticRegression(C=1.0, class_weight=None, dual=False, fit_intercept=True,\n",
              "                   intercept_scaling=1, l1_ratio=None, max_iter=100,\n",
              "                   multi_class='auto', n_jobs=None, penalty='l2',\n",
              "                   random_state=0, solver='lbfgs', tol=0.0001, verbose=0,\n",
              "                   warm_start=False)"
            ]
          },
          "metadata": {
            "tags": []
          },
          "execution_count": 11
        }
      ]
    },
    {
      "cell_type": "markdown",
      "metadata": {
        "id": "XUsncoK8v4-c"
      },
      "source": [
        "### SVM"
      ]
    },
    {
      "cell_type": "code",
      "metadata": {
        "colab": {
          "base_uri": "https://localhost:8080/"
        },
        "id": "eXKVJok_v7yJ",
        "outputId": "ddcc8b68-fcca-46b7-ec26-2db52d32f306"
      },
      "source": [
        "from sklearn.svm import SVC\n",
        "classifier_SVC = SVC(kernel = 'linear', random_state = 0)\n",
        "classifier_SVC.fit(X_train, y_train)"
      ],
      "execution_count": 12,
      "outputs": [
        {
          "output_type": "execute_result",
          "data": {
            "text/plain": [
              "SVC(C=1.0, break_ties=False, cache_size=200, class_weight=None, coef0=0.0,\n",
              "    decision_function_shape='ovr', degree=3, gamma='scale', kernel='linear',\n",
              "    max_iter=-1, probability=False, random_state=0, shrinking=True, tol=0.001,\n",
              "    verbose=False)"
            ]
          },
          "metadata": {
            "tags": []
          },
          "execution_count": 12
        }
      ]
    },
    {
      "cell_type": "markdown",
      "metadata": {
        "id": "e_NjYyio5coU"
      },
      "source": [
        "### Naive Bayes"
      ]
    },
    {
      "cell_type": "code",
      "metadata": {
        "colab": {
          "base_uri": "https://localhost:8080/"
        },
        "id": "ARVVHxaf59sw",
        "outputId": "105e2cb3-966b-448f-cdd6-1836b650d714"
      },
      "source": [
        "from sklearn.naive_bayes import GaussianNB\n",
        "classifier_NB = GaussianNB()\n",
        "classifier_NB.fit(X_train, y_train)"
      ],
      "execution_count": 13,
      "outputs": [
        {
          "output_type": "execute_result",
          "data": {
            "text/plain": [
              "GaussianNB(priors=None, var_smoothing=1e-09)"
            ]
          },
          "metadata": {
            "tags": []
          },
          "execution_count": 13
        }
      ]
    },
    {
      "cell_type": "markdown",
      "metadata": {
        "id": "TiCMNqj35c1I"
      },
      "source": [
        "### Decision Tree Classification"
      ]
    },
    {
      "cell_type": "code",
      "metadata": {
        "colab": {
          "base_uri": "https://localhost:8080/"
        },
        "id": "r9XIL2wS57FI",
        "outputId": "dfc87988-ccd4-4f67-8e4b-dbf71672730e"
      },
      "source": [
        "from sklearn.tree import DecisionTreeClassifier\n",
        "classifier_DT = DecisionTreeClassifier(criterion = 'entropy', random_state = 0)\n",
        "classifier_DT.fit(X_train, y_train)"
      ],
      "execution_count": 14,
      "outputs": [
        {
          "output_type": "execute_result",
          "data": {
            "text/plain": [
              "DecisionTreeClassifier(ccp_alpha=0.0, class_weight=None, criterion='entropy',\n",
              "                       max_depth=None, max_features=None, max_leaf_nodes=None,\n",
              "                       min_impurity_decrease=0.0, min_impurity_split=None,\n",
              "                       min_samples_leaf=1, min_samples_split=2,\n",
              "                       min_weight_fraction_leaf=0.0, presort='deprecated',\n",
              "                       random_state=0, splitter='best')"
            ]
          },
          "metadata": {
            "tags": []
          },
          "execution_count": 14
        }
      ]
    },
    {
      "cell_type": "markdown",
      "metadata": {
        "id": "XUm9Ldji5dgV"
      },
      "source": [
        "### Random Forest Classification"
      ]
    },
    {
      "cell_type": "code",
      "metadata": {
        "colab": {
          "base_uri": "https://localhost:8080/"
        },
        "id": "QorSnPln52zZ",
        "outputId": "8ad49405-56f1-4a34-b97b-04cac39119b6"
      },
      "source": [
        "from sklearn.ensemble import RandomForestClassifier\n",
        "classifier_RF = RandomForestClassifier(n_estimators = 20, criterion = 'entropy', random_state = 0)\n",
        "classifier_RF.fit(X_train, y_train)"
      ],
      "execution_count": 15,
      "outputs": [
        {
          "output_type": "execute_result",
          "data": {
            "text/plain": [
              "RandomForestClassifier(bootstrap=True, ccp_alpha=0.0, class_weight=None,\n",
              "                       criterion='entropy', max_depth=None, max_features='auto',\n",
              "                       max_leaf_nodes=None, max_samples=None,\n",
              "                       min_impurity_decrease=0.0, min_impurity_split=None,\n",
              "                       min_samples_leaf=1, min_samples_split=2,\n",
              "                       min_weight_fraction_leaf=0.0, n_estimators=20,\n",
              "                       n_jobs=None, oob_score=False, random_state=0, verbose=0,\n",
              "                       warm_start=False)"
            ]
          },
          "metadata": {
            "tags": []
          },
          "execution_count": 15
        }
      ]
    },
    {
      "cell_type": "markdown",
      "metadata": {
        "id": "aRoIIcVH6GmY"
      },
      "source": [
        "## Predicting the Test set results with all classifiers"
      ]
    },
    {
      "cell_type": "code",
      "metadata": {
        "id": "2zTbVEYfsXE8"
      },
      "source": [
        "y_pred_LG = classifier_LG.predict(X_test)\n",
        "y_pred_KNN = classifier_KNN.predict(X_test)\n",
        "y_pred_SVC = classifier_SVC.predict(X_test)\n",
        "y_pred_NB = classifier_NB.predict(X_test)\n",
        "y_pred_DT = classifier_DT.predict(X_test)\n",
        "y_pred_RF = classifier_RF.predict(X_test)"
      ],
      "execution_count": 16,
      "outputs": []
    },
    {
      "cell_type": "markdown",
      "metadata": {
        "id": "3vLVJdE36Psf"
      },
      "source": [
        "## Making the Confusion Matrix"
      ]
    },
    {
      "cell_type": "code",
      "metadata": {
        "colab": {
          "base_uri": "https://localhost:8080/"
        },
        "id": "f71i_wvw6T-t",
        "outputId": "bbc9bafa-0709-4f21-ce00-cd4631410ce4"
      },
      "source": [
        "from sklearn.metrics import confusion_matrix, accuracy_score\n",
        "cm_LG = confusion_matrix(y_test, y_pred_LG)\n",
        "cm_KNN = confusion_matrix(y_test, y_pred_KNN)\n",
        "cm_SVC = confusion_matrix(y_test, y_pred_SVC)\n",
        "cm_NB = confusion_matrix(y_test, y_pred_NB)\n",
        "cm_DT = confusion_matrix(y_test, y_pred_DT)\n",
        "cm_RF = confusion_matrix(y_test, y_pred_RF)\n",
        "#print(cm_i)\n",
        "#np.set_printoptions(precision=2)\n",
        "LG = print(\"Logistic Regression Classification Accuracy Score is {:.4f} %\".format(accuracy_score(y_test, y_pred_LG)*100))\n",
        "print(\"KNN Classification Accuracy Score is {:.4f} %\".format(accuracy_score(y_test, y_pred_KNN)*100))\n",
        "print(\"SVM Classification Accuracy Score is {:.4f} %\".format(accuracy_score(y_test, y_pred_SVC)*100))\n",
        "print(\"Naive Bayes Classification Accuracy Score is {:.4f} %\".format(accuracy_score(y_test, y_pred_NB)*100))\n",
        "print(\"Decision Tree Classification Accuracy Score is {:.4f} %\".format(accuracy_score(y_test, y_pred_DT)*100))\n",
        "print(\"Random Forest Classification Accuracy Score is {:.4f} %\".format(accuracy_score(y_test, y_pred_RF)*100))\n"
      ],
      "execution_count": 17,
      "outputs": [
        {
          "output_type": "stream",
          "text": [
            "Logistic Regression Classification Accuracy Score is 90.0292 %\n",
            "KNN Classification Accuracy Score is 89.3214 %\n",
            "SVM Classification Accuracy Score is 89.0472 %\n",
            "Naive Bayes Classification Accuracy Score is 85.1544 %\n",
            "Decision Tree Classification Accuracy Score is 87.3485 %\n",
            "Random Forest Classification Accuracy Score is 90.0557 %\n"
          ],
          "name": "stdout"
        }
      ]
    }
  ]
}